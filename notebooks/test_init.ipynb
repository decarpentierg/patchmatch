{
 "cells": [
  {
   "cell_type": "code",
   "execution_count": 1,
   "id": "542707d3",
   "metadata": {},
   "outputs": [],
   "source": [
    "import numpy as np\n",
    "import matplotlib.pyplot as plt\n",
    "from PIL import Image\n",
    "from time import time\n",
    "\n",
    "import patchmatch as pm"
   ]
  },
  {
   "cell_type": "code",
   "execution_count": 2,
   "id": "85bd7055",
   "metadata": {},
   "outputs": [],
   "source": [
    "im = Image.open(\"data/TP_C01_011_copy_ln20.png\")\n",
    "im = np.array(im).astype(\"double\")[400:]\n",
    "gt = Image.open(\"data/TP_C01_011_gt_ln20.png\")\n",
    "gt = np.array(gt)[400:] > 0"
   ]
  },
  {
   "cell_type": "code",
   "execution_count": 3,
   "id": "91665630",
   "metadata": {},
   "outputs": [
    {
     "name": "stdout",
     "output_type": "stream",
     "text": [
      "33468\n",
      "3176\n",
      "318\n",
      "36\n",
      "4\n"
     ]
    }
   ],
   "source": [
    "a = pm.PatchMatch(im, p=10, T=100, N=1, L=3)"
   ]
  },
  {
   "cell_type": "code",
   "execution_count": 4,
   "id": "68968322",
   "metadata": {},
   "outputs": [
    {
     "data": {
      "text/plain": [
       "(368, 1024, 2)"
      ]
     },
     "execution_count": 4,
     "metadata": {},
     "output_type": "execute_result"
    }
   ],
   "source": [
    "a.vect_field.shape"
   ]
  },
  {
   "cell_type": "code",
   "execution_count": 5,
   "id": "9904eedb",
   "metadata": {},
   "outputs": [],
   "source": [
    "diff = np.abs(a.vect_field)\n",
    "norms = np.maximum(diff[..., 0], diff[..., 1])"
   ]
  },
  {
   "cell_type": "code",
   "execution_count": 6,
   "id": "016cfe48",
   "metadata": {},
   "outputs": [
    {
     "data": {
      "text/plain": [
       "100"
      ]
     },
     "execution_count": 6,
     "metadata": {},
     "output_type": "execute_result"
    }
   ],
   "source": [
    "norms.min()"
   ]
  }
 ],
 "metadata": {
  "kernelspec": {
   "display_name": "Python 3 (ipykernel)",
   "language": "python",
   "name": "python3"
  },
  "language_info": {
   "codemirror_mode": {
    "name": "ipython",
    "version": 3
   },
   "file_extension": ".py",
   "mimetype": "text/x-python",
   "name": "python",
   "nbconvert_exporter": "python",
   "pygments_lexer": "ipython3",
   "version": "3.8.10"
  }
 },
 "nbformat": 4,
 "nbformat_minor": 5
}
