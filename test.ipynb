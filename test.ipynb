{
 "cells": [
  {
   "cell_type": "code",
   "execution_count": 1,
   "id": "c29e3fd9",
   "metadata": {},
   "outputs": [],
   "source": [
    "import numpy as np\n",
    "import matplotlib.pyplot as plt\n",
    "from PIL import Image\n",
    "from time import time\n",
    "\n",
    "import patchmatch as pm"
   ]
  },
  {
   "cell_type": "code",
   "execution_count": 2,
   "id": "bcce5be8",
   "metadata": {},
   "outputs": [],
   "source": [
    "im = Image.open(\"data/TP_C01_011_copy_ln20.png\")\n",
    "im = np.array(im).astype(\"double\")[400:]\n",
    "gt = Image.open(\"data/TP_C01_011_gt_ln20.png\")\n",
    "gt = np.array(gt)[400:]"
   ]
  },
  {
   "cell_type": "code",
   "execution_count": 7,
   "id": "99e53829",
   "metadata": {
    "scrolled": false
   },
   "outputs": [
    {
     "name": "stdout",
     "output_type": "stream",
     "text": [
      "Execution time: 7.081031799316406e-05\n",
      "Execution time: 15.950587272644043\n"
     ]
    }
   ],
   "source": [
    "a = pm.PatchMatch(im, T=100, p=3, N=0, L=1)\n",
    "t0 = time()\n",
    "v = a.run()\n",
    "t1 = time()\n",
    "print(\"Execution time:\", t1 - t0)\n",
    "a = pm.PatchMatch(im, T=100, p=3, N=10, L=1)\n",
    "t0 = time()\n",
    "v = a.run()\n",
    "t1 = time()\n",
    "print(\"Execution time:\", t1 - t0)"
   ]
  },
  {
   "cell_type": "code",
   "execution_count": 8,
   "id": "6f7c3a4d",
   "metadata": {},
   "outputs": [],
   "source": [
    "%matplotlib qt\n",
    "pm.plot_vect_field(a, gt, step=20, head_width=10, head_length=15, length_includes_head=True)"
   ]
  },
  {
   "cell_type": "code",
   "execution_count": 6,
   "id": "b0f0ef24",
   "metadata": {},
   "outputs": [],
   "source": [
    "# plt.imshow(im.astype(np.uint8))\n",
    "# plt.arrow(200, 300, 50, -100, head_width=10, head_length=15, length_includes_head=True)\n",
    "# plt.show()"
   ]
  }
 ],
 "metadata": {
  "kernelspec": {
   "display_name": "Python 3 (ipykernel)",
   "language": "python",
   "name": "python3"
  },
  "language_info": {
   "codemirror_mode": {
    "name": "ipython",
    "version": 3
   },
   "file_extension": ".py",
   "mimetype": "text/x-python",
   "name": "python",
   "nbconvert_exporter": "python",
   "pygments_lexer": "ipython3",
   "version": "3.8.10"
  }
 },
 "nbformat": 4,
 "nbformat_minor": 5
}
