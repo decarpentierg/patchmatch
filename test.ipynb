{
 "cells": [
  {
   "cell_type": "code",
   "execution_count": 1,
   "id": "c29e3fd9",
   "metadata": {},
   "outputs": [],
   "source": [
    "import numpy as np\n",
    "import matplotlib.pyplot as plt\n",
    "from PIL import Image\n",
    "from time import time\n",
    "\n",
    "import patchmatch as pm"
   ]
  },
  {
   "cell_type": "code",
   "execution_count": 2,
   "id": "bcce5be8",
   "metadata": {},
   "outputs": [],
   "source": [
    "im = Image.open(\"data/TP_C01_011_copy_ln20.png\")\n",
    "im = np.array(im).astype(\"double\")[400:]"
   ]
  },
  {
   "cell_type": "code",
   "execution_count": 4,
   "id": "99e53829",
   "metadata": {
    "scrolled": false
   },
   "outputs": [
    {
     "name": "stdout",
     "output_type": "stream",
     "text": [
      "Execution time: 28.985130310058594\n"
     ]
    }
   ],
   "source": [
    "a = pm.PatchMatch(im, 100, 3, 1)\n",
    "t0 = time()\n",
    "v = a.run()\n",
    "t1 = time()\n",
    "print(\"Execution time:\", t1 - t0)"
   ]
  },
  {
   "cell_type": "code",
   "execution_count": 5,
   "id": "ce00a2a0",
   "metadata": {},
   "outputs": [
    {
     "data": {
      "text/plain": [
       "(368, 1024, 2)"
      ]
     },
     "execution_count": 5,
     "metadata": {},
     "output_type": "execute_result"
    }
   ],
   "source": [
    "v.shape"
   ]
  }
 ],
 "metadata": {
  "kernelspec": {
   "display_name": "Python 3 (ipykernel)",
   "language": "python",
   "name": "python3"
  },
  "language_info": {
   "codemirror_mode": {
    "name": "ipython",
    "version": 3
   },
   "file_extension": ".py",
   "mimetype": "text/x-python",
   "name": "python",
   "nbconvert_exporter": "python",
   "pygments_lexer": "ipython3",
   "version": "3.8.10"
  }
 },
 "nbformat": 4,
 "nbformat_minor": 5
}
